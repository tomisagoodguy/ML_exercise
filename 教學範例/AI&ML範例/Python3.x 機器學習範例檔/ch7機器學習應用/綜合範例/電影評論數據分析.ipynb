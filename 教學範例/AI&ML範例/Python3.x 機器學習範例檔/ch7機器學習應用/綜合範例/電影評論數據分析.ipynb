{
 "cells": [
  {
   "cell_type": "code",
   "execution_count": 1,
   "metadata": {},
   "outputs": [
    {
     "data": {
      "text/html": [
       "<div>\n",
       "<style scoped>\n",
       "    .dataframe tbody tr th:only-of-type {\n",
       "        vertical-align: middle;\n",
       "    }\n",
       "\n",
       "    .dataframe tbody tr th {\n",
       "        vertical-align: top;\n",
       "    }\n",
       "\n",
       "    .dataframe thead th {\n",
       "        text-align: right;\n",
       "    }\n",
       "</style>\n",
       "<table border=\"1\" class=\"dataframe\">\n",
       "  <thead>\n",
       "    <tr style=\"text-align: right;\">\n",
       "      <th></th>\n",
       "      <th>review</th>\n",
       "      <th>sentiment</th>\n",
       "    </tr>\n",
       "  </thead>\n",
       "  <tbody>\n",
       "    <tr>\n",
       "      <th>0</th>\n",
       "      <td>One of the other reviewers has mentioned that ...</td>\n",
       "      <td>positive</td>\n",
       "    </tr>\n",
       "    <tr>\n",
       "      <th>1</th>\n",
       "      <td>A wonderful little production. &lt;br /&gt;&lt;br /&gt;The...</td>\n",
       "      <td>positive</td>\n",
       "    </tr>\n",
       "    <tr>\n",
       "      <th>2</th>\n",
       "      <td>I thought this was a wonderful way to spend ti...</td>\n",
       "      <td>positive</td>\n",
       "    </tr>\n",
       "  </tbody>\n",
       "</table>\n",
       "</div>"
      ],
      "text/plain": [
       "                                              review sentiment\n",
       "0  One of the other reviewers has mentioned that ...  positive\n",
       "1  A wonderful little production. <br /><br />The...  positive\n",
       "2  I thought this was a wonderful way to spend ti...  positive"
      ]
     },
     "execution_count": 1,
     "metadata": {},
     "output_type": "execute_result"
    }
   ],
   "source": [
    "import numpy as np\n",
    "import pandas as pd\n",
    "\n",
    "df = pd.read_csv('IMDb_dataset.csv')\n",
    "df.head(3)"
   ]
  },
  {
   "cell_type": "code",
   "execution_count": 2,
   "metadata": {},
   "outputs": [
    {
     "name": "stdout",
     "output_type": "stream",
     "text": [
      "negative    2553\n",
      "positive    2447\n",
      "Name: sentiment, dtype: int64\n"
     ]
    },
    {
     "data": {
      "text/html": [
       "<div>\n",
       "<style scoped>\n",
       "    .dataframe tbody tr th:only-of-type {\n",
       "        vertical-align: middle;\n",
       "    }\n",
       "\n",
       "    .dataframe tbody tr th {\n",
       "        vertical-align: top;\n",
       "    }\n",
       "\n",
       "    .dataframe thead th {\n",
       "        text-align: right;\n",
       "    }\n",
       "</style>\n",
       "<table border=\"1\" class=\"dataframe\">\n",
       "  <thead>\n",
       "    <tr style=\"text-align: right;\">\n",
       "      <th></th>\n",
       "      <th>review</th>\n",
       "      <th>sentiment</th>\n",
       "    </tr>\n",
       "  </thead>\n",
       "  <tbody>\n",
       "    <tr>\n",
       "      <th>0</th>\n",
       "      <td>John Cassavetes is on the run from the law. He...</td>\n",
       "      <td>positive</td>\n",
       "    </tr>\n",
       "    <tr>\n",
       "      <th>1</th>\n",
       "      <td>It's not just that the movie is lame. It's mor...</td>\n",
       "      <td>negative</td>\n",
       "    </tr>\n",
       "    <tr>\n",
       "      <th>2</th>\n",
       "      <td>Well, if it weren't for Ethel Waters and a 7-y...</td>\n",
       "      <td>negative</td>\n",
       "    </tr>\n",
       "  </tbody>\n",
       "</table>\n",
       "</div>"
      ],
      "text/plain": [
       "                                              review sentiment\n",
       "0  John Cassavetes is on the run from the law. He...  positive\n",
       "1  It's not just that the movie is lame. It's mor...  negative\n",
       "2  Well, if it weren't for Ethel Waters and a 7-y...  negative"
      ]
     },
     "execution_count": 2,
     "metadata": {},
     "output_type": "execute_result"
    }
   ],
   "source": [
    "size = 5000 # 只取部分樣本，節省運算時間\n",
    "\n",
    "df = df.sample(n=size, random_state=0)\n",
    "df.reset_index(inplace=True, drop=True)\n",
    "print(df['sentiment'].value_counts())\n",
    "df.head(3)"
   ]
  },
  {
   "cell_type": "code",
   "execution_count": 3,
   "metadata": {},
   "outputs": [
    {
     "data": {
      "text/html": [
       "<div>\n",
       "<style scoped>\n",
       "    .dataframe tbody tr th:only-of-type {\n",
       "        vertical-align: middle;\n",
       "    }\n",
       "\n",
       "    .dataframe tbody tr th {\n",
       "        vertical-align: top;\n",
       "    }\n",
       "\n",
       "    .dataframe thead th {\n",
       "        text-align: right;\n",
       "    }\n",
       "</style>\n",
       "<table border=\"1\" class=\"dataframe\">\n",
       "  <thead>\n",
       "    <tr style=\"text-align: right;\">\n",
       "      <th></th>\n",
       "      <th>review</th>\n",
       "      <th>sentiment</th>\n",
       "    </tr>\n",
       "  </thead>\n",
       "  <tbody>\n",
       "    <tr>\n",
       "      <th>0</th>\n",
       "      <td>John Cassavetes is on the run from the law. He...</td>\n",
       "      <td>1</td>\n",
       "    </tr>\n",
       "    <tr>\n",
       "      <th>1</th>\n",
       "      <td>It's not just that the movie is lame. It's mor...</td>\n",
       "      <td>0</td>\n",
       "    </tr>\n",
       "    <tr>\n",
       "      <th>2</th>\n",
       "      <td>Well, if it weren't for Ethel Waters and a 7-y...</td>\n",
       "      <td>0</td>\n",
       "    </tr>\n",
       "  </tbody>\n",
       "</table>\n",
       "</div>"
      ],
      "text/plain": [
       "                                              review  sentiment\n",
       "0  John Cassavetes is on the run from the law. He...          1\n",
       "1  It's not just that the movie is lame. It's mor...          0\n",
       "2  Well, if it weren't for Ethel Waters and a 7-y...          0"
      ]
     },
     "execution_count": 3,
     "metadata": {},
     "output_type": "execute_result"
    }
   ],
   "source": [
    "from sklearn.preprocessing import LabelEncoder\n",
    "\n",
    "le = LabelEncoder().fit(df['sentiment'])\n",
    "df['sentiment'] = le.transform(df['sentiment'])\n",
    "df.head(3)"
   ]
  },
  {
   "cell_type": "markdown",
   "metadata": {},
   "source": [
    "#### 移除或取代某些字元"
   ]
  },
  {
   "cell_type": "code",
   "execution_count": 4,
   "metadata": {},
   "outputs": [
    {
     "data": {
      "text/plain": [
       "'John Cassavetes is on the run from the law  He is at the bottom of the heap  He sees Negro Sidney Poitier as his equal and they quickly become friends forming a sort of alliance against a bully of a foreman played by Jack Warden As someone who has worked in a warehouse myself when I was younger I can tell you that the warehouse fights complete with tumbling packing cases and flailing grappling hooks are as realistic as it gets  Ive been in fights like these myself although no one got killed The introduction of Sidney Poitiers widow is a variation on Shakespeares Shylock Do I not bleed This is an anti racist film which at the time was much needed All the three principle characters  Warden Cassavetes and Poitier  are superb with Warden the most outstanding of the three '"
      ]
     },
     "execution_count": 4,
     "metadata": {},
     "output_type": "execute_result"
    }
   ],
   "source": [
    "from bs4 import BeautifulSoup\n",
    "import re\n",
    "\n",
    "def remove_noise(text):\n",
    "    # 移除 HTML 標籤\n",
    "    bs = BeautifulSoup(text, \"html.parser\")\n",
    "    text = bs.get_text()\n",
    "    \n",
    "    # 移除中括號內的文字\n",
    "    text = re.sub('\\[[^]]*\\]', '', text)\n",
    "    \n",
    "    # 將句點取代為空格\n",
    "    text = text.replace('.', ' ')\n",
    "    \n",
    "    # 移除特殊字元、標點符號\n",
    "    pattern = r'[^a-zA-Z0-9\\s]'\n",
    "    text = re.sub(pattern, '', text)\n",
    "    \n",
    "    return text\n",
    "\n",
    "df['review'] = df['review'].apply(remove_noise)\n",
    "df.loc[0, 'review']"
   ]
  },
  {
   "cell_type": "markdown",
   "metadata": {},
   "source": [
    "#### 提取詞幹"
   ]
  },
  {
   "cell_type": "code",
   "execution_count": 5,
   "metadata": {},
   "outputs": [
    {
     "data": {
      "text/plain": [
       "'john cassavet is on the run from the law He is at the bottom of the heap He see negro sidney poitier as hi equal and they quickli becom friend form a sort of allianc against a bulli of a foreman play by jack warden As someon who ha work in a warehous myself when I wa younger I can tell you that the warehous fight complet with tumbl pack case and flail grappl hook are as realist as it get ive been in fight like these myself although no one got kill the introduct of sidney poitier widow is a variat on shakespear shylock Do I not bleed thi is an anti racist film which at the time wa much need all the three principl charact warden cassavet and poitier are superb with warden the most outstand of the three'"
      ]
     },
     "execution_count": 5,
     "metadata": {},
     "output_type": "execute_result"
    }
   ],
   "source": [
    "from nltk.stem.porter import PorterStemmer\n",
    "\n",
    "porter = PorterStemmer()\n",
    "\n",
    "# 提取詞幹\n",
    "def get_stemming(text):\n",
    "    text = ' '.join([porter.stem(w) for w in text.split()])   \n",
    "    return text\n",
    "\n",
    "df['review'] = df['review'].apply(get_stemming)\n",
    "df.loc[0, 'review']"
   ]
  },
  {
   "cell_type": "markdown",
   "metadata": {},
   "source": [
    "#### 切割訓練集、測試集"
   ]
  },
  {
   "cell_type": "code",
   "execution_count": 6,
   "metadata": {},
   "outputs": [
    {
     "data": {
      "text/html": [
       "<div>\n",
       "<style scoped>\n",
       "    .dataframe tbody tr th:only-of-type {\n",
       "        vertical-align: middle;\n",
       "    }\n",
       "\n",
       "    .dataframe tbody tr th {\n",
       "        vertical-align: top;\n",
       "    }\n",
       "\n",
       "    .dataframe thead th {\n",
       "        text-align: right;\n",
       "    }\n",
       "</style>\n",
       "<table border=\"1\" class=\"dataframe\">\n",
       "  <thead>\n",
       "    <tr style=\"text-align: right;\">\n",
       "      <th></th>\n",
       "      <th>總筆數</th>\n",
       "      <th>正評論筆數</th>\n",
       "      <th>負評論筆數</th>\n",
       "    </tr>\n",
       "  </thead>\n",
       "  <tbody>\n",
       "    <tr>\n",
       "      <th>訓練集</th>\n",
       "      <td>4000</td>\n",
       "      <td>1954</td>\n",
       "      <td>2046</td>\n",
       "    </tr>\n",
       "    <tr>\n",
       "      <th>測試集</th>\n",
       "      <td>1000</td>\n",
       "      <td>493</td>\n",
       "      <td>507</td>\n",
       "    </tr>\n",
       "  </tbody>\n",
       "</table>\n",
       "</div>"
      ],
      "text/plain": [
       "      總筆數  正評論筆數  負評論筆數\n",
       "訓練集  4000   1954   2046\n",
       "測試集  1000    493    507"
      ]
     },
     "execution_count": 6,
     "metadata": {},
     "output_type": "execute_result"
    }
   ],
   "source": [
    "train_size = 0.8\n",
    "\n",
    "X_train = df.loc[:size*train_size-1, 'review'].values\n",
    "y_train = df.loc[:size*train_size-1, 'sentiment'].values\n",
    "X_test = df.loc[size*train_size:, 'review'].values\n",
    "y_test = df.loc[size*train_size:, 'sentiment'].values\n",
    "\n",
    "dct = {'總筆數': [X_train.shape[0], X_test.shape[0]], \n",
    "       '正評論筆數': [y_train.sum(), y_test.sum()], \n",
    "       '負評論筆數': [(y_train==0).sum(), (y_test==0).sum()]}\n",
    "pd.DataFrame(dct, index=['訓練集', '測試集'])"
   ]
  },
  {
   "cell_type": "markdown",
   "metadata": {},
   "source": [
    "#### 詞袋模型向量化"
   ]
  },
  {
   "cell_type": "code",
   "execution_count": 7,
   "metadata": {},
   "outputs": [
    {
     "name": "stdout",
     "output_type": "stream",
     "text": [
      "訓練集(BoW)： (4000, 29963)\n",
      "測試集(BoW)： (1000, 29963)\n"
     ]
    }
   ],
   "source": [
    "from sklearn.feature_extraction.text import CountVectorizer\n",
    "\n",
    "count_vec = CountVectorizer()\n",
    "X_train_cvec = count_vec.fit_transform(X_train)\n",
    "X_test_cvec = count_vec.transform(X_test)\n",
    "\n",
    "print('訓練集(BoW)：', X_train_cvec.shape)\n",
    "print('測試集(BoW)：', X_test_cvec.shape)"
   ]
  },
  {
   "cell_type": "markdown",
   "metadata": {},
   "source": [
    "#### TF-IDF 向量化"
   ]
  },
  {
   "cell_type": "code",
   "execution_count": 8,
   "metadata": {},
   "outputs": [
    {
     "name": "stdout",
     "output_type": "stream",
     "text": [
      "訓練集(tf-idf)： (4000, 29963)\n",
      "測試集(tf-idf)： (1000, 29963)\n"
     ]
    }
   ],
   "source": [
    "from sklearn.feature_extraction.text import TfidfVectorizer\n",
    "\n",
    "tf_idf = TfidfVectorizer()\n",
    "X_train_tfidf = tf_idf.fit_transform(X_train)\n",
    "X_test_tfidf = tf_idf.transform(X_test)\n",
    "\n",
    "print('訓練集(tf-idf)：', X_train_tfidf.shape)\n",
    "print('測試集(tf-idf)：', X_test_tfidf.shape)"
   ]
  },
  {
   "cell_type": "markdown",
   "metadata": {},
   "source": [
    "#### TF-IDF + 機器學習模型 + 網格搜尋"
   ]
  },
  {
   "cell_type": "code",
   "execution_count": 9,
   "metadata": {},
   "outputs": [
    {
     "name": "stdout",
     "output_type": "stream",
     "text": [
      "Fitting 5 folds for each of 168 candidates, totalling 840 fits\n"
     ]
    },
    {
     "name": "stderr",
     "output_type": "stream",
     "text": [
      "[Parallel(n_jobs=-1)]: Using backend LokyBackend with 8 concurrent workers.\n",
      "[Parallel(n_jobs=-1)]: Done  34 tasks      | elapsed:    6.8s\n",
      "[Parallel(n_jobs=-1)]: Done 184 tasks      | elapsed:   33.0s\n",
      "[Parallel(n_jobs=-1)]: Done 434 tasks      | elapsed:  1.2min\n",
      "[Parallel(n_jobs=-1)]: Done 784 tasks      | elapsed:  2.1min\n",
      "[Parallel(n_jobs=-1)]: Done 840 out of 840 | elapsed:  2.2min finished\n"
     ]
    },
    {
     "data": {
      "text/plain": [
       "GridSearchCV(cv=5, error_score=nan,\n",
       "             estimator=Pipeline(memory=None,\n",
       "                                steps=[('vec',\n",
       "                                        CountVectorizer(analyzer='word',\n",
       "                                                        binary=False,\n",
       "                                                        decode_error='strict',\n",
       "                                                        dtype=<class 'numpy.int64'>,\n",
       "                                                        encoding='utf-8',\n",
       "                                                        input='content',\n",
       "                                                        lowercase=True,\n",
       "                                                        max_df=1.0,\n",
       "                                                        max_features=None,\n",
       "                                                        min_df=1,\n",
       "                                                        ngram_range=(1, 1),\n",
       "                                                        preprocessor=None,\n",
       "                                                        stop_words=None,\n",
       "                                                        strip_accents=None,\n",
       "                                                        token_pattern='(?u)\\...\n",
       "                                                  ngram_range=(1, 1), norm='l2',\n",
       "                                                  preprocessor=None,\n",
       "                                                  smooth_idf=True,\n",
       "                                                  stop_words=None,\n",
       "                                                  strip_accents=None,\n",
       "                                                  sublinear_tf=False,\n",
       "                                                  token_pattern='(?u)\\\\b\\\\w\\\\w+\\\\b',\n",
       "                                                  tokenizer=None, use_idf=True,\n",
       "                                                  vocabulary=None)],\n",
       "                          'vec__norm': ['l1', 'l2', None],\n",
       "                          'vec__stop_words': ['english', None]}],\n",
       "             pre_dispatch='2*n_jobs', refit=True, return_train_score=False,\n",
       "             scoring='accuracy', verbose=1)"
      ]
     },
     "execution_count": 9,
     "metadata": {},
     "output_type": "execute_result"
    }
   ],
   "source": [
    "from sklearn.pipeline import Pipeline\n",
    "from sklearn.linear_model import LogisticRegression\n",
    "from sklearn.ensemble import RandomForestClassifier\n",
    "from sklearn.naive_bayes import MultinomialNB\n",
    "from sklearn.model_selection import GridSearchCV\n",
    "\n",
    "pipe = Pipeline([('vec', count_vec), \n",
    "                 ('clf', LogisticRegression())])\n",
    "\n",
    "param_grid = [{'vec': [CountVectorizer()],\n",
    "               'vec__stop_words': ['english', None],\n",
    "               'clf': [LogisticRegression(n_jobs=-1)],\n",
    "               'clf__penalty': ['l1', 'l2'],\n",
    "               'clf__C': np.logspace(-2, 2, 10)}, \n",
    "              {'vec': [TfidfVectorizer()],\n",
    "               'vec__stop_words': ['english', None],\n",
    "               'vec__norm':['l1', 'l2', None],\n",
    "               'clf': [LogisticRegression(n_jobs=-1)],\n",
    "               'clf__penalty': ['l1', 'l2'],\n",
    "               'clf__C': np.logspace(-2, 2, 10)},\n",
    "              {'vec': [CountVectorizer()],\n",
    "               'vec__stop_words': ['english', None],\n",
    "               'clf': [MultinomialNB()]},\n",
    "              {'vec': [TfidfVectorizer()],\n",
    "               'vec__stop_words': ['english', None],\n",
    "               'vec__norm':['l1', 'l2', None],\n",
    "               'clf': [MultinomialNB()]},\n",
    "              ]\n",
    "\n",
    "gs = GridSearchCV(pipe, param_grid, scoring='accuracy', \n",
    "                  cv=5, verbose=1, n_jobs=-1)\n",
    "gs.fit(X_train, y_train)"
   ]
  },
  {
   "cell_type": "markdown",
   "metadata": {},
   "source": [
    "#### 搜尋到的最佳參數組合"
   ]
  },
  {
   "cell_type": "code",
   "execution_count": 10,
   "metadata": {},
   "outputs": [
    {
     "name": "stdout",
     "output_type": "stream",
     "text": [
      "Best parameters: {'clf': LogisticRegression(C=4.6415888336127775, class_weight=None, dual=False,\n",
      "                   fit_intercept=True, intercept_scaling=1, l1_ratio=None,\n",
      "                   max_iter=100, multi_class='auto', n_jobs=-1, penalty='l2',\n",
      "                   random_state=None, solver='lbfgs', tol=0.0001, verbose=0,\n",
      "                   warm_start=False), 'clf__C': 4.6415888336127775, 'clf__penalty': 'l2', 'vec': TfidfVectorizer(analyzer='word', binary=False, decode_error='strict',\n",
      "                dtype=<class 'numpy.float64'>, encoding='utf-8',\n",
      "                input='content', lowercase=True, max_df=1.0, max_features=None,\n",
      "                min_df=1, ngram_range=(1, 1), norm='l2', preprocessor=None,\n",
      "                smooth_idf=True, stop_words=None, strip_accents=None,\n",
      "                sublinear_tf=False, token_pattern='(?u)\\\\b\\\\w\\\\w+\\\\b',\n",
      "                tokenizer=None, use_idf=True, vocabulary=None), 'vec__norm': 'l2', 'vec__stop_words': None}\n"
     ]
    }
   ],
   "source": [
    "print('Best parameters:', gs.best_params_)"
   ]
  },
  {
   "cell_type": "markdown",
   "metadata": {},
   "source": [
    "#### 分類準確率"
   ]
  },
  {
   "cell_type": "code",
   "execution_count": 11,
   "metadata": {},
   "outputs": [
    {
     "name": "stdout",
     "output_type": "stream",
     "text": [
      "Train accuracy: 0.85\n",
      "Test accuracy: 0.875\n"
     ]
    }
   ],
   "source": [
    "print('Train accuracy:', gs.best_score_)\n",
    "clf = gs.best_estimator_\n",
    "print('Test accuracy:', clf.score(X_test, y_test))"
   ]
  },
  {
   "cell_type": "code",
   "execution_count": 12,
   "metadata": {},
   "outputs": [
    {
     "name": "stdout",
     "output_type": "stream",
     "text": [
      "              precision    recall  f1-score   support\n",
      "\n",
      "    negative       0.89      0.86      0.87       507\n",
      "    positive       0.86      0.89      0.88       493\n",
      "\n",
      "    accuracy                           0.88      1000\n",
      "   macro avg       0.88      0.88      0.87      1000\n",
      "weighted avg       0.88      0.88      0.87      1000\n",
      "\n"
     ]
    }
   ],
   "source": [
    "from sklearn.metrics import classification_report\n",
    "\n",
    "y_pred = clf.predict(X_test)\n",
    "clf_report = classification_report(y_test, y_pred, target_names=le.classes_)\n",
    "print(clf_report)"
   ]
  },
  {
   "cell_type": "code",
   "execution_count": 13,
   "metadata": {},
   "outputs": [
    {
     "data": {
      "image/png": "[encoded data removed]",
      "text/plain": [
       "<Figure size 432x288 with 2 Axes>"
      ]
     },
     "metadata": {
      "needs_background": "light"
     },
     "output_type": "display_data"
    }
   ],
   "source": [
    "import matplotlib.pyplot as plt\n",
    "from sklearn.metrics import plot_confusion_matrix\n",
    "\n",
    "plot_confusion_matrix(clf, X_test, y_test, \n",
    "                      display_labels=le.classes_,\n",
    "                      values_format = 'd',\n",
    "                      cmap=plt.cm.Blues);"
   ]
  },
  {
   "cell_type": "code",
   "execution_count": 14,
   "metadata": {},
   "outputs": [
    {
     "data": {
      "image/png": "[encoded data removed]",
      "text/plain": [
       "<Figure size 432x288 with 1 Axes>"
      ]
     },
     "metadata": {
      "needs_background": "light"
     },
     "output_type": "display_data"
    }
   ],
   "source": [
    "# 要先安裝 wordcloud 套件\n",
    "from wordcloud import WordCloud\n",
    "import matplotlib.pyplot as plt\n",
    "from PIL import Image\n",
    "\n",
    "# 文字雲造型圖片\n",
    "mask = np.array(Image.open('pikachu.jpg'))\n",
    "\n",
    "wc = WordCloud(\n",
    "  background_color='white', #   背景顏色\n",
    "  max_words=200,            #   最大分詞數量\n",
    "  mask=mask,                #   背景圖片\n",
    "  min_font_size=5)          #   顯示字體的最小值\n",
    "\n",
    "# 生成文字雲\n",
    "wc.generate(X_train[0])\n",
    "plt.imshow(wc, interpolation='bilinear')\n",
    "plt.axis('off');"
   ]
  },
  {
   "cell_type": "code",
   "execution_count": null,
   "metadata": {},
   "outputs": [],
   "source": []
  }
 ],
 "metadata": {
  "kernelspec": {
   "display_name": "Python 3",
   "language": "python",
   "name": "python3"
  },
  "language_info": {
   "codemirror_mode": {
    "name": "ipython",
    "version": 3
   },
   "file_extension": ".py",
   "mimetype": "text/x-python",
   "name": "python",
   "nbconvert_exporter": "python",
   "pygments_lexer": "ipython3",
   "version": "3.7.6"
  }
 },
 "nbformat": 4,
 "nbformat_minor": 4
}
